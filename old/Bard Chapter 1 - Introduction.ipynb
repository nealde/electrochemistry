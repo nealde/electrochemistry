{
 "cells": [
  {
   "cell_type": "markdown",
   "metadata": {},
   "source": [
    "# Chapter 1 - Introduction\n",
    "### Requirements \n",
    "##### Necessary:\n",
    "* ipywidgets (conda install ipywidgets)\n",
    "* bokeh (conda install bokeh)\n",
    "* numpy (installed by default)\n",
    "##### Optional:\n",
    "* [Codefolding](https://github.com/ipython-contrib/jupyter_contrib_nbextensions/wiki/Codefolding)\n",
    "- Install by typing the following into Anaconda prompt:\n",
    "* pip install jupyter_contrib_nbextensions\n",
    "* jupyter contrib nbextension install --user\n",
    "* jupyter nbextension enable codefolding/main\n",
    "* Restart Jupyter and in the /Tree directory, check for an NbExtensions tab and see that Codefolding is checked"
   ]
  },
  {
   "cell_type": "markdown",
   "metadata": {},
   "source": [
    "### Table of Contents:\n",
    "  * [Chapter 1.2](#chapter-2) Double Layer Capacitance\n",
    "  * [Chapter 1.3](#chapter-3) Fardaic Processes\n",
    "  * [Chapter 1.4](#chapter-4) Modes of Mass Transfer\n",
    "  * [Chapter 1.5](#chapter-5) Nernstian Reactions with Coupled Chemical Reactions\n",
    "  "
   ]
  },
  {
   "cell_type": "markdown",
   "metadata": {},
   "source": [
    "### Chapter 1.2 <a id=\"chapter-2\"></a>Double Layer Capacitance\n",
    "![Figure 1.2.3](CH1/fig_1_2_3.png)\n",
    "##### Some Equations:\n",
    "**Voltage Step**   \n",
    "Response current: $$i = \\frac{E}{R_s}e^{(-t/(R_sC_d))}$$\n",
    "Charge stored: $$q = EC_d(1-e^{(-t/(R_sC_d))})$$\n"
   ]
  },
  {
   "cell_type": "markdown",
   "metadata": {},
   "source": [
    "### Equivalent Linear Circuits\n",
    "![Figure 1.2.5](CH1/fig_1_2_5.png)"
   ]
  },
  {
   "cell_type": "code",
   "execution_count": 30,
   "metadata": {
    "code_folding": [
     0
    ],
    "collapsed": true
   },
   "outputs": [],
   "source": [
    "# Optional check to install / make sure CodeFolding is active:\n",
    "\n",
    "# Activate:\n",
    "# ext_require_path = 'codefolding/main'\n",
    "# try:  # notebook >= 4.2.0\n",
    "#     from notebook.nbextensions import enable_nbextension\n",
    "#     enable_nbextension('notebook', ext_require_path)\n",
    "# except ImportError:\n",
    "#     from notebook.nbextensions import EnableNBExtensionApp\n",
    "#     EnableNBExtensionApp().enable_nbextension(ext_require_path)\n",
    "\n",
    "# Check:\n",
    "# from notebook.nbextensions import check_nbextension\n",
    "# check_nbextension('codefolding', user=True)\n",
    "# check_nbextension('codefolding/main.js', user=True)"
   ]
  },
  {
   "cell_type": "code",
   "execution_count": 3,
   "metadata": {
    "code_folding": [
     0
    ]
   },
   "outputs": [
    {
     "name": "stderr",
     "output_type": "stream",
     "text": [
      "C:\\Users\\neal\\Anaconda3\\envs\\keras\\lib\\site-packages\\ipykernel_launcher.py:12: RuntimeWarning: invalid value encountered in true_divide\n",
      "  if sys.path[0] == '':\n"
     ]
    }
   ],
   "source": [
    "# Create the interactive graphs\n",
    "from ipywidgets import interact\n",
    "import numpy as np\n",
    "\n",
    "# from bokeh.io import push_notebook, show, output_notebook\n",
    "# from bokeh.layouts import gridplot\n",
    "# from bokeh.plotting import figure\n",
    "# output_notebook()\n",
    "\n",
    "x = np.linspace(0, 60, 200)\n",
    "E = 0.5\n",
    "y = x*E*1/x\n",
    "# Rs in Ohms\n",
    "# Cd in uF\n",
    "Rs=1\n",
    "Cd=20\n",
    "y2 = E/Rs*np.exp(-x/(Rs*Cd))\n",
    "\n",
    "# p = figure(title=\"Applied E\", plot_height=300, plot_width=600, y_range=(-3,3))\n",
    "# pp = figure(title=\"Resultant i\", plot_height=300, plot_width=600, x_range = p.x_range, y_range=p.y_range)\n",
    "# r = p.line(x, y, color=\"#2222aa\", line_width=3)\n",
    "# rr = pp.line(x, y2, color=\"#2222aa\", line_width=3)\n",
    "\n",
    "# def update(f, E=0.1, Rs=1, Cd=20):\n",
    "#     if   f == \"step\": \n",
    "#         r.data_source.data['y'] = x*E*1/x\n",
    "#         rr.data_source.data['y'] = E/Rs*np.exp(-x/(Rs*Cd))\n",
    "#     elif f == \"ramp\":\n",
    "#         r.data_source.data['y'] = (E*x)/max(x)\n",
    "#         v=E/max(x)\n",
    "#         rr.data_source.data['y'] = v*Cd*(1-np.exp(-x/(Rs*Cd)))\n",
    "#     elif f == \"triangle\":\n",
    "#         r.data_source.data['y'] = np.concatenate((np.array((2*E*x)/max(x))[0:len(x)/2-1],np.array(2*E-(2*E*x)/max(x))[len(x)/2:len(x)-1]),axis=0)\n",
    "#         v=E/max(x)\n",
    "#         rr.data_source.data['y'] = np.concatenate((np.array(v*Cd*(1-np.exp(-x/(Rs*Cd))))[0:len(x)/2-1],np.array(-v*Cd*(1-np.exp(-x/(Rs*Cd))))[0:len(x)/2-1]),axis=0)\n",
    "#     push_notebook()\n",
    "    \n",
    "# s = gridplot([[p],[pp]], toolbar_location=None)\n",
    "# show(s, notebook_handle=True)\n"
   ]
  },
  {
   "cell_type": "code",
   "execution_count": 15,
   "metadata": {},
   "outputs": [],
   "source": [
    "# x = np.linspace(1e-5, 60, 200)\n",
    "# E = 0.5\n",
    "# # y = x*E*1/x\n",
    "# # Rs in Ohms\n",
    "# # Cd in uF\n",
    "# Rs=1\n",
    "# Cd=20\n",
    "# # y2 = E/Rs*np.exp(-x/(Rs*Cd))\n",
    "# print((2*E*x)/max(x))\n",
    "# y = np.concatenate((((2*E*x)/max(x))[:len(x)//2-1], (2*E-(2*E*x)/max(x))[len(x)//2:len(x)-1]), axis=0)\n",
    "# # y = np.concatenate(((2*E*x)/max(x)[0:len(x)/2-1],np.array(2*E-(2*E*x)/max(x))[len(x)/2:len(x)-1]),axis=0)\n",
    "# v=E/max(x)\n",
    "# y2 = np.concatenate(((v*Cd*(1-np.exp(-x/(Rs*Cd))))[0:len(x)//2-1],(-v*Cd*(1-np.exp(-x/(Rs*Cd))))[0:len(x)//2-1]),axis=0)\n",
    "# print(y,y2)\n",
    "# print(x)"
   ]
  },
  {
   "cell_type": "code",
   "execution_count": 32,
   "metadata": {
    "code_folding": [
     0
    ]
   },
   "outputs": [
    {
     "data": {
      "text/plain": [
       "<function __main__.update>"
      ]
     },
     "execution_count": 32,
     "metadata": {},
     "output_type": "execute_result"
    }
   ],
   "source": [
    "# Create the sliders for the graphs\n",
    "interact(update, f=[\"step\", \"ramp\", \"triangle\"], E=(0,3,0.05), Rs=(0.01,3,0.01), Cd=(0.01, 60, 0.1))"
   ]
  },
  {
   "cell_type": "markdown",
   "metadata": {},
   "source": [
    "### Chapter 1.3 <a id=\"chapter-3\"></a>Faradaic Processes\n",
    "##### Galvanic cells - Reactions occur spontaneously at the electrodes when connected by a conductor.\n",
    "* Primary and secondary batteries\n",
    "* Fuel cells\n",
    "\n",
    "##### Electrolytic cells - Reactions are effected by the applied voltage moreso than the open Circuit Potential (OCP)\n",
    "* Electrolytic synthesis\n",
    "* Electroplating\n",
    "* Electrorefining (like copper)\n",
    "\n",
    "The function of a half-cell is independent of galvanic or eletrolytic status.  \n",
    "**Reduction** occurs at the cathode, **oxidation** occurs at the anode.\n",
    "\n",
    "The equilibrium potential is an important reference point of the system.  \n",
    "* Cell potential changing from equilibrium is called *polarization*\n",
    "* Extent of polarization is measured by overpotential $$\\eta = E-E_{eq}$$\n",
    "![Figure 1.3.5](CH1/fig_1_3_5.png)  \n",
    "\n",
    "##### Factors affecting electrode reaction rate and current\n",
    "1. Mass transfer\n",
    "2. Electron transfer at electrode surface\n",
    "3. Chemical reactions before / after electron transfer\n",
    "4. Other surface reactions, like adsorption, desorption, or crystallization  \n",
    "*rate constants may be dependent upon potential*  \n",
    "**Overpotential** is the sum of terms associated with each step - *mass transfer overpotential*, *charge-transfer overpotential*, etc  \n",
    "$$E_{applied} = E_{cd}-iR_s=E_{eq,cd}+\\eta-iR_s$$  \n",
    "The above indicates that the *overpotential* and *bulk soluion resistance* should be counted separately\n",
    "![Figure 1.3.6](CH1/fig_1_3_6.png)  \n",
    "##### 3-electrode cells for measuring electrochemical cell resistance\n",
    "![Figure 1.3.10](CH1/fig_1_3_10.png)  \n",
    "![Figure 1.3.12](CH1/fig_1_3_12.png)  "
   ]
  },
  {
   "cell_type": "markdown",
   "metadata": {},
   "source": [
    "### Chapter 1.4 <a id=\"chapter-4\"></a>Modes of Mass Transfer\n",
    "If an eelctrode process has fast, heterogeneous charge-transfer kinetics and mobile, reversible homogeneous equations:\n",
    "1. The homogeneous reactions can be regarded as being at equilibrium\n",
    "2. the *surface concentrations* are related to the electrode potential by an equation of the Nernst form, meaning that the reaction is sufficiently fast as to be mass-transfer limited. $$v_{rxn} = v_{mt}=\\frac{i}{nFA}$$  \n",
    "\n",
    "##### 3 modes of mass transfer:\n",
    "1. Migration - Movement of a charged body under the influence of an electric field (a gradient of electrical potential).\n",
    "2. Diffusion - Movement of a species under the influence of a gradient of chemical potential (i.e. a concentration gradient).\n",
    "3. Convection - Stirring or hydrodynamic transport. Generally, fluid flow occurs because of natual convection (convection caused by density gradients) and forced convection, and may be characterized by stagnant regions, laminar flow, and turbulent flow.  \n",
    "\n",
    "Mass transfer to an electrode is governed by the *Nernst-Planck equation (1D)*\n",
    "$$J_{i}(x) = -D_{i}\\frac{\\partial C_i(x) }{\\partial x}-\\frac{z_iF}{RT}D_iC_i\\frac{\\partial \\phi (x) }{\\partial x} +C_iv(x)$$  \n",
    "\n",
    "The transport of C to the electrode is mass-transfer limited, such that the diffusion layer thickness is always constant as long as D is constant.\n",
    "![Figure 1.4.1](CH1/fig_1_4_1.png)  \n",
    "$$\\frac{i}{nFA}=m_O[C^*_O-C_O(x=0)]$$ $$i_l=nFAm_OC^*_O$$  \n",
    "\n",
    "**When R is not present:** $$E = E_{1/2} = E^{0'}-\\frac{RT}{nF}ln\\frac{m_O}{m_R}$$  \n",
    "$$E = E_{1/2} +\\frac{RT}{nF}ln\\frac{i_l-i}{i}$$ \n",
    "\n",
    "**When R present:** $$E = E^{0'}-\\frac{RT}{nF}ln\\frac{m_O}{m_R}+\\frac{RT}{nF}ln(\\frac{i_{l,c}-i}{i-i_{l,a}})$$  \n",
    "\n",
    "**When R is insoluble (like with metal plating)** $$E = E^{0'}-\\frac{RT}{nF}lnC^*_O+\\frac{RT}{nF}ln(\\frac{i_l-i}{i})$$  \n",
    "$$i = i_l, \\eta_{conc} \\rightarrow \\infty$$\n",
    "![Figure 1.4.4](CH1/fig_1_4_4.png)  \n"
   ]
  },
  {
   "cell_type": "markdown",
   "metadata": {},
   "source": [
    "### Chapter 1.5 <a id=\"chapter-5\"></a>Nernstian Reactions with Coupled Chemical Reactions\n",
    "$$E = E^{0'} + \\frac{RT}{nF}ln\\frac{m_R+\\mu k}{m_O}+\\frac{RT}{nF}ln(\\frac{i_l-i}{i})$$  \n",
    "\n",
    "$$E = E_{1/2}' + \\frac{0.059}{n}ln\\frac{m_R+\\mu k}{m_O}$$  \n",
    "\n",
    "$$m_R=0.62D_R^{2/3}v^{-1/6}\\omega ^{1/2}$$\n",
    "##### Unperturbed equation:\n",
    "$$E'_{1/2} = E_{1/2} + \\frac{0.059}{n}ln\\frac{\\mu k}{m_R}$$  \n",
    "\n",
    "##### Rotating equation:\n",
    "$$E'_{1/2} = E_{1/2} + \\frac{0.059}{n}ln\\frac{\\mu k}{0.62D_R^{2/3}v^{-1/6}} - \\frac{0.059}{n}ln \\omega$$  \n",
    "![Figure 1.5.1](CH1/fig_1_5_1.png)  "
   ]
  },
  {
   "cell_type": "code",
   "execution_count": 33,
   "metadata": {
    "code_folding": [
     0
    ]
   },
   "outputs": [
    {
     "data": {
      "text/html": [
       "\n",
       "    <div class=\"bk-root\">\n",
       "        <a href=\"http://bokeh.pydata.org\" target=\"_blank\" class=\"bk-logo bk-logo-small bk-logo-notebook\"></a>\n",
       "        <span id=\"35de03d5-17dd-4002-bde7-00cc60ef3e0b\">Loading BokehJS ...</span>\n",
       "    </div>"
      ]
     },
     "metadata": {},
     "output_type": "display_data"
    },
    {
     "data": {
      "application/javascript": [
       "\n",
       "(function(global) {\n",
       "  function now() {\n",
       "    return new Date();\n",
       "  }\n",
       "\n",
       "  var force = true;\n",
       "\n",
       "  if (typeof (window._bokeh_onload_callbacks) === \"undefined\" || force === true) {\n",
       "    window._bokeh_onload_callbacks = [];\n",
       "    window._bokeh_is_loading = undefined;\n",
       "  }\n",
       "\n",
       "\n",
       "  \n",
       "  if (typeof (window._bokeh_timeout) === \"undefined\" || force === true) {\n",
       "    window._bokeh_timeout = Date.now() + 5000;\n",
       "    window._bokeh_failed_load = false;\n",
       "  }\n",
       "\n",
       "  var NB_LOAD_WARNING = {'data': {'text/html':\n",
       "     \"<div style='background-color: #fdd'>\\n\"+\n",
       "     \"<p>\\n\"+\n",
       "     \"BokehJS does not appear to have successfully loaded. If loading BokehJS from CDN, this \\n\"+\n",
       "     \"may be due to a slow or bad network connection. Possible fixes:\\n\"+\n",
       "     \"</p>\\n\"+\n",
       "     \"<ul>\\n\"+\n",
       "     \"<li>re-rerun `output_notebook()` to attempt to load from CDN again, or</li>\\n\"+\n",
       "     \"<li>use INLINE resources instead, as so:</li>\\n\"+\n",
       "     \"</ul>\\n\"+\n",
       "     \"<code>\\n\"+\n",
       "     \"from bokeh.resources import INLINE\\n\"+\n",
       "     \"output_notebook(resources=INLINE)\\n\"+\n",
       "     \"</code>\\n\"+\n",
       "     \"</div>\"}};\n",
       "\n",
       "  function display_loaded() {\n",
       "    if (window.Bokeh !== undefined) {\n",
       "      document.getElementById(\"35de03d5-17dd-4002-bde7-00cc60ef3e0b\").textContent = \"BokehJS successfully loaded.\";\n",
       "    } else if (Date.now() < window._bokeh_timeout) {\n",
       "      setTimeout(display_loaded, 100)\n",
       "    }\n",
       "  }\n",
       "\n",
       "  function run_callbacks() {\n",
       "    window._bokeh_onload_callbacks.forEach(function(callback) { callback() });\n",
       "    delete window._bokeh_onload_callbacks\n",
       "    console.info(\"Bokeh: all callbacks have finished\");\n",
       "  }\n",
       "\n",
       "  function load_libs(js_urls, callback) {\n",
       "    window._bokeh_onload_callbacks.push(callback);\n",
       "    if (window._bokeh_is_loading > 0) {\n",
       "      console.log(\"Bokeh: BokehJS is being loaded, scheduling callback at\", now());\n",
       "      return null;\n",
       "    }\n",
       "    if (js_urls == null || js_urls.length === 0) {\n",
       "      run_callbacks();\n",
       "      return null;\n",
       "    }\n",
       "    console.log(\"Bokeh: BokehJS not loaded, scheduling load and callback at\", now());\n",
       "    window._bokeh_is_loading = js_urls.length;\n",
       "    for (var i = 0; i < js_urls.length; i++) {\n",
       "      var url = js_urls[i];\n",
       "      var s = document.createElement('script');\n",
       "      s.src = url;\n",
       "      s.async = false;\n",
       "      s.onreadystatechange = s.onload = function() {\n",
       "        window._bokeh_is_loading--;\n",
       "        if (window._bokeh_is_loading === 0) {\n",
       "          console.log(\"Bokeh: all BokehJS libraries loaded\");\n",
       "          run_callbacks()\n",
       "        }\n",
       "      };\n",
       "      s.onerror = function() {\n",
       "        console.warn(\"failed to load library \" + url);\n",
       "      };\n",
       "      console.log(\"Bokeh: injecting script tag for BokehJS library: \", url);\n",
       "      document.getElementsByTagName(\"head\")[0].appendChild(s);\n",
       "    }\n",
       "  };var element = document.getElementById(\"35de03d5-17dd-4002-bde7-00cc60ef3e0b\");\n",
       "  if (element == null) {\n",
       "    console.log(\"Bokeh: ERROR: autoload.js configured with elementid '35de03d5-17dd-4002-bde7-00cc60ef3e0b' but no matching script tag was found. \")\n",
       "    return false;\n",
       "  }\n",
       "\n",
       "  var js_urls = [\"https://cdn.pydata.org/bokeh/release/bokeh-0.12.4.min.js\", \"https://cdn.pydata.org/bokeh/release/bokeh-widgets-0.12.4.min.js\"];\n",
       "\n",
       "  var inline_js = [\n",
       "    function(Bokeh) {\n",
       "      Bokeh.set_log_level(\"info\");\n",
       "    },\n",
       "    \n",
       "    function(Bokeh) {\n",
       "      \n",
       "      document.getElementById(\"35de03d5-17dd-4002-bde7-00cc60ef3e0b\").textContent = \"BokehJS is loading...\";\n",
       "    },\n",
       "    function(Bokeh) {\n",
       "      console.log(\"Bokeh: injecting CSS: https://cdn.pydata.org/bokeh/release/bokeh-0.12.4.min.css\");\n",
       "      Bokeh.embed.inject_css(\"https://cdn.pydata.org/bokeh/release/bokeh-0.12.4.min.css\");\n",
       "      console.log(\"Bokeh: injecting CSS: https://cdn.pydata.org/bokeh/release/bokeh-widgets-0.12.4.min.css\");\n",
       "      Bokeh.embed.inject_css(\"https://cdn.pydata.org/bokeh/release/bokeh-widgets-0.12.4.min.css\");\n",
       "    }\n",
       "  ];\n",
       "\n",
       "  function run_inline_js() {\n",
       "    \n",
       "    if ((window.Bokeh !== undefined) || (force === true)) {\n",
       "      for (var i = 0; i < inline_js.length; i++) {\n",
       "        inline_js[i](window.Bokeh);\n",
       "      }if (force === true) {\n",
       "        display_loaded();\n",
       "      }} else if (Date.now() < window._bokeh_timeout) {\n",
       "      setTimeout(run_inline_js, 100);\n",
       "    } else if (!window._bokeh_failed_load) {\n",
       "      console.log(\"Bokeh: BokehJS failed to load within specified timeout.\");\n",
       "      window._bokeh_failed_load = true;\n",
       "    } else if (force !== true) {\n",
       "      var cell = $(document.getElementById(\"35de03d5-17dd-4002-bde7-00cc60ef3e0b\")).parents('.cell').data().cell;\n",
       "      cell.output_area.append_execute_result(NB_LOAD_WARNING)\n",
       "    }\n",
       "\n",
       "  }\n",
       "\n",
       "  if (window._bokeh_is_loading === 0) {\n",
       "    console.log(\"Bokeh: BokehJS loaded, going straight to plotting\");\n",
       "    run_inline_js();\n",
       "  } else {\n",
       "    load_libs(js_urls, function() {\n",
       "      console.log(\"Bokeh: BokehJS plotting callback run at\", now());\n",
       "      run_inline_js();\n",
       "    });\n",
       "  }\n",
       "}(this));"
      ]
     },
     "metadata": {},
     "output_type": "display_data"
    },
    {
     "data": {
      "text/html": [
       "\n",
       "\n",
       "    <div class=\"bk-root\">\n",
       "        <div class=\"bk-plotdiv\" id=\"c0af634d-0900-4ab9-afec-2139c21c496e\"></div>\n",
       "    </div>\n",
       "<script type=\"text/javascript\">\n",
       "  \n",
       "  (function(global) {\n",
       "    function now() {\n",
       "      return new Date();\n",
       "    }\n",
       "  \n",
       "    var force = false;\n",
       "  \n",
       "    if (typeof (window._bokeh_onload_callbacks) === \"undefined\" || force === true) {\n",
       "      window._bokeh_onload_callbacks = [];\n",
       "      window._bokeh_is_loading = undefined;\n",
       "    }\n",
       "  \n",
       "  \n",
       "    \n",
       "    if (typeof (window._bokeh_timeout) === \"undefined\" || force === true) {\n",
       "      window._bokeh_timeout = Date.now() + 0;\n",
       "      window._bokeh_failed_load = false;\n",
       "    }\n",
       "  \n",
       "    var NB_LOAD_WARNING = {'data': {'text/html':\n",
       "       \"<div style='background-color: #fdd'>\\n\"+\n",
       "       \"<p>\\n\"+\n",
       "       \"BokehJS does not appear to have successfully loaded. If loading BokehJS from CDN, this \\n\"+\n",
       "       \"may be due to a slow or bad network connection. Possible fixes:\\n\"+\n",
       "       \"</p>\\n\"+\n",
       "       \"<ul>\\n\"+\n",
       "       \"<li>re-rerun `output_notebook()` to attempt to load from CDN again, or</li>\\n\"+\n",
       "       \"<li>use INLINE resources instead, as so:</li>\\n\"+\n",
       "       \"</ul>\\n\"+\n",
       "       \"<code>\\n\"+\n",
       "       \"from bokeh.resources import INLINE\\n\"+\n",
       "       \"output_notebook(resources=INLINE)\\n\"+\n",
       "       \"</code>\\n\"+\n",
       "       \"</div>\"}};\n",
       "  \n",
       "    function display_loaded() {\n",
       "      if (window.Bokeh !== undefined) {\n",
       "        document.getElementById(\"c0af634d-0900-4ab9-afec-2139c21c496e\").textContent = \"BokehJS successfully loaded.\";\n",
       "      } else if (Date.now() < window._bokeh_timeout) {\n",
       "        setTimeout(display_loaded, 100)\n",
       "      }\n",
       "    }if ((window.Jupyter !== undefined) && Jupyter.notebook.kernel) {\n",
       "      comm_manager = Jupyter.notebook.kernel.comm_manager\n",
       "      comm_manager.register_target(\"547022c4-90d1-48d6-82e5-00b6ed1c0a21\", function () {});\n",
       "    }\n",
       "  \n",
       "    function run_callbacks() {\n",
       "      window._bokeh_onload_callbacks.forEach(function(callback) { callback() });\n",
       "      delete window._bokeh_onload_callbacks\n",
       "      console.info(\"Bokeh: all callbacks have finished\");\n",
       "    }\n",
       "  \n",
       "    function load_libs(js_urls, callback) {\n",
       "      window._bokeh_onload_callbacks.push(callback);\n",
       "      if (window._bokeh_is_loading > 0) {\n",
       "        console.log(\"Bokeh: BokehJS is being loaded, scheduling callback at\", now());\n",
       "        return null;\n",
       "      }\n",
       "      if (js_urls == null || js_urls.length === 0) {\n",
       "        run_callbacks();\n",
       "        return null;\n",
       "      }\n",
       "      console.log(\"Bokeh: BokehJS not loaded, scheduling load and callback at\", now());\n",
       "      window._bokeh_is_loading = js_urls.length;\n",
       "      for (var i = 0; i < js_urls.length; i++) {\n",
       "        var url = js_urls[i];\n",
       "        var s = document.createElement('script');\n",
       "        s.src = url;\n",
       "        s.async = false;\n",
       "        s.onreadystatechange = s.onload = function() {\n",
       "          window._bokeh_is_loading--;\n",
       "          if (window._bokeh_is_loading === 0) {\n",
       "            console.log(\"Bokeh: all BokehJS libraries loaded\");\n",
       "            run_callbacks()\n",
       "          }\n",
       "        };\n",
       "        s.onerror = function() {\n",
       "          console.warn(\"failed to load library \" + url);\n",
       "        };\n",
       "        console.log(\"Bokeh: injecting script tag for BokehJS library: \", url);\n",
       "        document.getElementsByTagName(\"head\")[0].appendChild(s);\n",
       "      }\n",
       "    };var element = document.getElementById(\"c0af634d-0900-4ab9-afec-2139c21c496e\");\n",
       "    if (element == null) {\n",
       "      console.log(\"Bokeh: ERROR: autoload.js configured with elementid 'c0af634d-0900-4ab9-afec-2139c21c496e' but no matching script tag was found. \")\n",
       "      return false;\n",
       "    }\n",
       "  \n",
       "    var js_urls = [];\n",
       "  \n",
       "    var inline_js = [\n",
       "      function(Bokeh) {\n",
       "        (function() {\n",
       "          var fn = function() {\n",
       "            var docs_json = {\"ebd1cd95-2842-49eb-baf4-b72704043fb0\":{\"roots\":{\"references\":[{\"attributes\":{\"callback\":null,\"column_names\":[\"y\",\"x\"],\"data\":{\"x\":{\"__ndarray__\":\"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\",\"dtype\":\"float64\",\"shape\":[200]},\"y\":{\"__ndarray__\":\"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\",\"dtype\":\"float64\",\"shape\":[200]}}},\"id\":\"92821d98-4d75-461c-9286-0f7c197a3456\",\"type\":\"ColumnDataSource\"},{\"attributes\":{\"line_color\":{\"value\":\"green\"},\"line_width\":{\"value\":3},\"x\":{\"field\":\"x\"},\"y\":{\"field\":\"y\"}},\"id\":\"1c26af20-8a4c-4ad5-b049-72819d02e22c\",\"type\":\"Line\"},{\"attributes\":{\"callback\":null,\"column_names\":[\"y\",\"x\"],\"data\":{\"x\":{\"__ndarray__\":\"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\",\"dtype\":\"float64\",\"shape\":[200]},\"y\":{\"__ndarray__\":\"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\",\"dtype\":\"float64\",\"shape\":[200]}}},\"id\":\"22ffb4d9-81e8-49da-90f4-67bd3707688c\",\"type\":\"ColumnDataSource\"},{\"attributes\":{\"bottom_units\":\"screen\",\"fill_alpha\":{\"value\":0.5},\"fill_color\":{\"value\":\"lightgrey\"},\"left_units\":\"screen\",\"level\":\"overlay\",\"line_alpha\":{\"value\":1.0},\"line_color\":{\"value\":\"black\"},\"line_dash\":[4,4],\"line_width\":{\"value\":2},\"plot\":null,\"render_mode\":\"css\",\"right_units\":\"screen\",\"top_units\":\"screen\"},\"id\":\"4522139f-e391-4f3d-bb8e-9b299167918f\",\"type\":\"BoxAnnotation\"},{\"attributes\":{\"data_source\":{\"id\":\"9deb365b-2a8c-44d3-aa1f-751dc1e42b5b\",\"type\":\"ColumnDataSource\"},\"glyph\":{\"id\":\"baa5f5cd-b6d9-4135-b1a3-5f538bac1bd4\",\"type\":\"Line\"},\"hover_glyph\":null,\"nonselection_glyph\":{\"id\":\"05b59d68-092f-4662-b771-244fba3e17bb\",\"type\":\"Line\"},\"selection_glyph\":null},\"id\":\"58baa7e4-b6a6-4025-81a7-e1f95168c19b\",\"type\":\"GlyphRenderer\"},{\"attributes\":{\"plot\":{\"id\":\"6dfa4751-9734-4378-ba02-cf90cba1cfc3\",\"subtype\":\"Figure\",\"type\":\"Plot\"},\"ticker\":{\"id\":\"a721330b-9b53-45b4-8519-757c782207cb\",\"type\":\"BasicTicker\"}},\"id\":\"db45b147-b69c-427c-9994-d13b4ecafad1\",\"type\":\"Grid\"},{\"attributes\":{\"data_source\":{\"id\":\"22ffb4d9-81e8-49da-90f4-67bd3707688c\",\"type\":\"ColumnDataSource\"},\"glyph\":{\"id\":\"1c26af20-8a4c-4ad5-b049-72819d02e22c\",\"type\":\"Line\"},\"hover_glyph\":null,\"nonselection_glyph\":{\"id\":\"6a1d6e5e-a77c-48cd-88cf-e431a546b1c9\",\"type\":\"Line\"},\"selection_glyph\":null},\"id\":\"32276b40-9561-486d-ab37-dab877bb5e52\",\"type\":\"GlyphRenderer\"},{\"attributes\":{\"active_drag\":\"auto\",\"active_scroll\":\"auto\",\"active_tap\":\"auto\",\"tools\":[{\"id\":\"c4df130c-3a6b-44f8-91ce-bc5a5ba22ae2\",\"type\":\"PanTool\"},{\"id\":\"51d1b567-b2c1-4d01-a030-471cc183a2be\",\"type\":\"WheelZoomTool\"},{\"id\":\"c13443b2-1128-4216-865c-6a02a598f0c8\",\"type\":\"BoxZoomTool\"},{\"id\":\"682c9384-b997-49b8-9be1-5d6a2174028e\",\"type\":\"SaveTool\"},{\"id\":\"6ade71a3-2e8c-45b4-a2bf-1eabfe597634\",\"type\":\"ResetTool\"},{\"id\":\"8949f6f9-52a6-41f6-b1b5-d1b31788db79\",\"type\":\"HelpTool\"}]},\"id\":\"5bea7d02-0667-48fa-aab0-8e6c6a3d321f\",\"type\":\"Toolbar\"},{\"attributes\":{},\"id\":\"88415319-057f-43c6-a57d-9ee1ea4d3dcf\",\"type\":\"ToolEvents\"},{\"attributes\":{\"line_color\":{\"value\":\"red\"},\"line_width\":{\"value\":3},\"x\":{\"field\":\"x\"},\"y\":{\"field\":\"y\"}},\"id\":\"c1f350b2-33b3-4533-a8e1-408214e4c0e5\",\"type\":\"Line\"},{\"attributes\":{},\"id\":\"616a52d3-46c7-40c9-9237-ed321c53cbf3\",\"type\":\"BasicTicker\"},{\"attributes\":{\"plot\":{\"id\":\"6dfa4751-9734-4378-ba02-cf90cba1cfc3\",\"subtype\":\"Figure\",\"type\":\"Plot\"}},\"id\":\"682c9384-b997-49b8-9be1-5d6a2174028e\",\"type\":\"SaveTool\"},{\"attributes\":{\"line_alpha\":{\"value\":0.1},\"line_color\":{\"value\":\"#1f77b4\"},\"line_width\":{\"value\":3},\"x\":{\"field\":\"x\"},\"y\":{\"field\":\"y\"}},\"id\":\"6a1d6e5e-a77c-48cd-88cf-e431a546b1c9\",\"type\":\"Line\"},{\"attributes\":{\"children\":[{\"id\":\"6dfa4751-9734-4378-ba02-cf90cba1cfc3\",\"subtype\":\"Figure\",\"type\":\"Plot\"}]},\"id\":\"791098be-f18c-41e7-bc24-4c4965153f90\",\"type\":\"Row\"},{\"attributes\":{\"data_source\":{\"id\":\"92821d98-4d75-461c-9286-0f7c197a3456\",\"type\":\"ColumnDataSource\"},\"glyph\":{\"id\":\"c1f350b2-33b3-4533-a8e1-408214e4c0e5\",\"type\":\"Line\"},\"hover_glyph\":null,\"nonselection_glyph\":{\"id\":\"d034d78f-39a0-4944-921d-6e3e22fa77ec\",\"type\":\"Line\"},\"selection_glyph\":null},\"id\":\"dfbc2f64-3c96-49ac-a562-394909c22f5f\",\"type\":\"GlyphRenderer\"},{\"attributes\":{\"line_alpha\":{\"value\":0.1},\"line_color\":{\"value\":\"#1f77b4\"},\"line_width\":{\"value\":3},\"x\":{\"field\":\"x\"},\"y\":{\"field\":\"y\"}},\"id\":\"05b59d68-092f-4662-b771-244fba3e17bb\",\"type\":\"Line\"},{\"attributes\":{\"plot\":{\"id\":\"6dfa4751-9734-4378-ba02-cf90cba1cfc3\",\"subtype\":\"Figure\",\"type\":\"Plot\"}},\"id\":\"51d1b567-b2c1-4d01-a030-471cc183a2be\",\"type\":\"WheelZoomTool\"},{\"attributes\":{\"plot\":null,\"text\":\"E vs i for Spinning Disc Electrode\"},\"id\":\"715812c4-312a-4235-a370-afcb040002ee\",\"type\":\"Title\"},{\"attributes\":{\"plot\":{\"id\":\"6dfa4751-9734-4378-ba02-cf90cba1cfc3\",\"subtype\":\"Figure\",\"type\":\"Plot\"}},\"id\":\"8949f6f9-52a6-41f6-b1b5-d1b31788db79\",\"type\":\"HelpTool\"},{\"attributes\":{},\"id\":\"c5482f2d-7456-4fc7-99db-50e9f67d306b\",\"type\":\"BasicTickFormatter\"},{\"attributes\":{\"line_alpha\":{\"value\":0.1},\"line_color\":{\"value\":\"#1f77b4\"},\"line_width\":{\"value\":3},\"x\":{\"field\":\"x\"},\"y\":{\"field\":\"y\"}},\"id\":\"d034d78f-39a0-4944-921d-6e3e22fa77ec\",\"type\":\"Line\"},{\"attributes\":{\"plot\":{\"id\":\"6dfa4751-9734-4378-ba02-cf90cba1cfc3\",\"subtype\":\"Figure\",\"type\":\"Plot\"}},\"id\":\"c4df130c-3a6b-44f8-91ce-bc5a5ba22ae2\",\"type\":\"PanTool\"},{\"attributes\":{\"callback\":null,\"end\":10,\"start\":-80},\"id\":\"70da9266-3658-4cf9-be8f-d92a23c7bb5c\",\"type\":\"Range1d\"},{\"attributes\":{\"children\":[{\"id\":\"791098be-f18c-41e7-bc24-4c4965153f90\",\"type\":\"Row\"}]},\"id\":\"0ff19238-6a5f-4e25-8cfd-01e91287245d\",\"type\":\"Column\"},{\"attributes\":{\"callback\":null},\"id\":\"bfaf7c4d-f9a5-41d9-820d-9cbc65be042f\",\"type\":\"DataRange1d\"},{\"attributes\":{\"formatter\":{\"id\":\"10408162-ba9e-4731-8bde-652bc658383c\",\"type\":\"BasicTickFormatter\"},\"plot\":{\"id\":\"6dfa4751-9734-4378-ba02-cf90cba1cfc3\",\"subtype\":\"Figure\",\"type\":\"Plot\"},\"ticker\":{\"id\":\"a721330b-9b53-45b4-8519-757c782207cb\",\"type\":\"BasicTicker\"}},\"id\":\"5a826e7b-6675-4b70-82e7-59f2dcfb7d23\",\"type\":\"LinearAxis\"},{\"attributes\":{\"plot\":{\"id\":\"6dfa4751-9734-4378-ba02-cf90cba1cfc3\",\"subtype\":\"Figure\",\"type\":\"Plot\"}},\"id\":\"6ade71a3-2e8c-45b4-a2bf-1eabfe597634\",\"type\":\"ResetTool\"},{\"attributes\":{\"callback\":null,\"column_names\":[\"y\",\"x\"],\"data\":{\"x\":{\"__ndarray__\":\"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\",\"dtype\":\"float64\",\"shape\":[200]},\"y\":{\"__ndarray__\":\"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\",\"dtype\":\"float64\",\"shape\":[200]}}},\"id\":\"9deb365b-2a8c-44d3-aa1f-751dc1e42b5b\",\"type\":\"ColumnDataSource\"},{\"attributes\":{\"line_color\":{\"value\":\"#2222aa\"},\"line_width\":{\"value\":3},\"x\":{\"field\":\"x\"},\"y\":{\"field\":\"y\"}},\"id\":\"baa5f5cd-b6d9-4135-b1a3-5f538bac1bd4\",\"type\":\"Line\"},{\"attributes\":{\"dimension\":1,\"plot\":{\"id\":\"6dfa4751-9734-4378-ba02-cf90cba1cfc3\",\"subtype\":\"Figure\",\"type\":\"Plot\"},\"ticker\":{\"id\":\"616a52d3-46c7-40c9-9237-ed321c53cbf3\",\"type\":\"BasicTicker\"}},\"id\":\"be84be8c-7c90-4b9b-9606-17b8fb6d4d35\",\"type\":\"Grid\"},{\"attributes\":{\"overlay\":{\"id\":\"4522139f-e391-4f3d-bb8e-9b299167918f\",\"type\":\"BoxAnnotation\"},\"plot\":{\"id\":\"6dfa4751-9734-4378-ba02-cf90cba1cfc3\",\"subtype\":\"Figure\",\"type\":\"Plot\"}},\"id\":\"c13443b2-1128-4216-865c-6a02a598f0c8\",\"type\":\"BoxZoomTool\"},{\"attributes\":{},\"id\":\"a721330b-9b53-45b4-8519-757c782207cb\",\"type\":\"BasicTicker\"},{\"attributes\":{\"below\":[{\"id\":\"5a826e7b-6675-4b70-82e7-59f2dcfb7d23\",\"type\":\"LinearAxis\"}],\"left\":[{\"id\":\"adc49a27-0845-49fb-97fc-217218e82799\",\"type\":\"LinearAxis\"}],\"plot_height\":300,\"renderers\":[{\"id\":\"5a826e7b-6675-4b70-82e7-59f2dcfb7d23\",\"type\":\"LinearAxis\"},{\"id\":\"db45b147-b69c-427c-9994-d13b4ecafad1\",\"type\":\"Grid\"},{\"id\":\"adc49a27-0845-49fb-97fc-217218e82799\",\"type\":\"LinearAxis\"},{\"id\":\"be84be8c-7c90-4b9b-9606-17b8fb6d4d35\",\"type\":\"Grid\"},{\"id\":\"4522139f-e391-4f3d-bb8e-9b299167918f\",\"type\":\"BoxAnnotation\"},{\"id\":\"58baa7e4-b6a6-4025-81a7-e1f95168c19b\",\"type\":\"GlyphRenderer\"},{\"id\":\"dfbc2f64-3c96-49ac-a562-394909c22f5f\",\"type\":\"GlyphRenderer\"},{\"id\":\"32276b40-9561-486d-ab37-dab877bb5e52\",\"type\":\"GlyphRenderer\"}],\"title\":{\"id\":\"715812c4-312a-4235-a370-afcb040002ee\",\"type\":\"Title\"},\"tool_events\":{\"id\":\"88415319-057f-43c6-a57d-9ee1ea4d3dcf\",\"type\":\"ToolEvents\"},\"toolbar\":{\"id\":\"5bea7d02-0667-48fa-aab0-8e6c6a3d321f\",\"type\":\"Toolbar\"},\"toolbar_location\":null,\"x_range\":{\"id\":\"bfaf7c4d-f9a5-41d9-820d-9cbc65be042f\",\"type\":\"DataRange1d\"},\"y_range\":{\"id\":\"70da9266-3658-4cf9-be8f-d92a23c7bb5c\",\"type\":\"Range1d\"}},\"id\":\"6dfa4751-9734-4378-ba02-cf90cba1cfc3\",\"subtype\":\"Figure\",\"type\":\"Plot\"},{\"attributes\":{\"formatter\":{\"id\":\"c5482f2d-7456-4fc7-99db-50e9f67d306b\",\"type\":\"BasicTickFormatter\"},\"plot\":{\"id\":\"6dfa4751-9734-4378-ba02-cf90cba1cfc3\",\"subtype\":\"Figure\",\"type\":\"Plot\"},\"ticker\":{\"id\":\"616a52d3-46c7-40c9-9237-ed321c53cbf3\",\"type\":\"BasicTicker\"}},\"id\":\"adc49a27-0845-49fb-97fc-217218e82799\",\"type\":\"LinearAxis\"},{\"attributes\":{},\"id\":\"10408162-ba9e-4731-8bde-652bc658383c\",\"type\":\"BasicTickFormatter\"}],\"root_ids\":[\"0ff19238-6a5f-4e25-8cfd-01e91287245d\"]},\"title\":\"Bokeh Application\",\"version\":\"0.12.4\"}};\n",
       "            var render_items = [{\"docid\":\"ebd1cd95-2842-49eb-baf4-b72704043fb0\",\"elementid\":\"c0af634d-0900-4ab9-afec-2139c21c496e\",\"modelid\":\"0ff19238-6a5f-4e25-8cfd-01e91287245d\",\"notebook_comms_target\":\"547022c4-90d1-48d6-82e5-00b6ed1c0a21\"}];\n",
       "            \n",
       "            Bokeh.embed.embed_items(docs_json, render_items);\n",
       "          };\n",
       "          if (document.readyState != \"loading\") fn();\n",
       "          else document.addEventListener(\"DOMContentLoaded\", fn);\n",
       "        })();\n",
       "      },\n",
       "      function(Bokeh) {\n",
       "      }\n",
       "    ];\n",
       "  \n",
       "    function run_inline_js() {\n",
       "      \n",
       "      if ((window.Bokeh !== undefined) || (force === true)) {\n",
       "        for (var i = 0; i < inline_js.length; i++) {\n",
       "          inline_js[i](window.Bokeh);\n",
       "        }if (force === true) {\n",
       "          display_loaded();\n",
       "        }} else if (Date.now() < window._bokeh_timeout) {\n",
       "        setTimeout(run_inline_js, 100);\n",
       "      } else if (!window._bokeh_failed_load) {\n",
       "        console.log(\"Bokeh: BokehJS failed to load within specified timeout.\");\n",
       "        window._bokeh_failed_load = true;\n",
       "      } else if (force !== true) {\n",
       "        var cell = $(document.getElementById(\"c0af634d-0900-4ab9-afec-2139c21c496e\")).parents('.cell').data().cell;\n",
       "        cell.output_area.append_execute_result(NB_LOAD_WARNING)\n",
       "      }\n",
       "  \n",
       "    }\n",
       "  \n",
       "    if (window._bokeh_is_loading === 0) {\n",
       "      console.log(\"Bokeh: BokehJS loaded, going straight to plotting\");\n",
       "      run_inline_js();\n",
       "    } else {\n",
       "      load_libs(js_urls, function() {\n",
       "        console.log(\"Bokeh: BokehJS plotting callback run at\", now());\n",
       "        run_inline_js();\n",
       "      });\n",
       "    }\n",
       "  }(this));\n",
       "</script>"
      ]
     },
     "metadata": {},
     "output_type": "display_data"
    },
    {
     "data": {
      "text/html": [
       "<p><code>&lt;Bokeh Notebook handle for <strong>In[66]</strong>&gt;</code></p>"
      ],
      "text/plain": [
       "<bokeh.io._CommsHandle at 0x8c7df28>"
      ]
     },
     "execution_count": 33,
     "metadata": {},
     "output_type": "execute_result"
    }
   ],
   "source": [
    "# Create the interactive graphs\n",
    "from ipywidgets import interact\n",
    "import numpy as np\n",
    "\n",
    "from bokeh.io import push_notebook, show, output_notebook\n",
    "from bokeh.layouts import gridplot\n",
    "from bokeh.plotting import figure\n",
    "output_notebook()\n",
    "# Needs E1/2, DR, v, n, u, k, w, il, mR as inputs.\n",
    "x = np.linspace(0, 60, 200) # i values\n",
    "E_half = 0.5\n",
    "il=60\n",
    "n=0.01\n",
    "u=.01\n",
    "k=1\n",
    "mR=0.5\n",
    "DR=0.02\n",
    "v=0.3\n",
    "w=3\n",
    "\n",
    "E_half_1 = E_half+0.059/n*np.log(u*k/mR)\n",
    "E_half_2 = E_half+0.059/n*np.log(u*k/(0.62*DR**(2/3)*v**(-1/6)))-0.059/n*np.log(w)\n",
    "w=6\n",
    "E_half_3 = E_half+0.059/n*np.log(u*k/(0.62*DR**(2/3)*v**(-1/6)))-0.059/n*np.log(w)\n",
    "y = E_half_1 + 0.059/n*np.log((il-x)/x) # E values\n",
    "y2 = E_half_2 + 0.059/n*np.log((il-x)/x)\n",
    "y3 = E_half_3 + 0.059/n*np.log((il-x)/x)\n",
    "\n",
    "p = figure(title=\"E vs i for Spinning Disc Electrode\", plot_height=300, plot_width=600, y_range=(-80,10))\n",
    "# pp = figure(title=\"Resultant i\", plot_height=300, plot_width=600, x_range = p.x_range, y_range=p.y_range)\n",
    "r = p.line(x, y, color=\"#2222aa\", line_width=3)\n",
    "rr = p.line(x, y2, color=\"red\", line_width=3)\n",
    "rrr = p.line(x, y3, color=\"green\", line_width=3)\n",
    "# rr = pp.line(x, y2, color=\"#2222aa\", line_width=3)\n",
    "\n",
    "def update(E_half=0.5, il=60, n=0.01, u=0.01, k=1, mR=0.5, DR=0.02, v=0.03, w=3):\n",
    "    E_half_1 = E_half+0.059/n*np.log(u*k/mR)\n",
    "    E_half_2 = E_half+0.059/n*np.log(u*k/(0.62*DR**(2/3)*v**(-1/6)))-0.059/n*np.log(w)\n",
    "    w=2*w\n",
    "    E_half_3 = E_half+0.059/n*np.log(u*k/(0.62*DR**(2/3)*v**(-1/6)))-0.059/n*np.log(w)\n",
    "    r.data_source.data['y'] = E_half_1 + 0.059/n*np.log((il-x)/x)\n",
    "    rr.data_source.data['y'] = E_half_2 + 0.059/n*np.log((il-x)/x)\n",
    "    rrr.data_source.data['y'] = E_half_3 + 0.059/n*np.log((il-x)/x)\n",
    "    push_notebook()\n",
    "    \n",
    "s = gridplot([[p]], toolbar_location=None)\n",
    "show(s, notebook_handle=True)\n"
   ]
  },
  {
   "cell_type": "code",
   "execution_count": 34,
   "metadata": {
    "code_folding": [
     0
    ]
   },
   "outputs": [
    {
     "data": {
      "text/plain": [
       "<function __main__.update>"
      ]
     },
     "execution_count": 34,
     "metadata": {},
     "output_type": "execute_result"
    }
   ],
   "source": [
    "# Create the sliders for the graphs\n",
    "interact(update,  E_half=(0,3,0.05), il=(10,60,1), n=(0.01, .1, 0.01), u=(0.01, 1, 0.01),\n",
    "        k=(0.05, 2, 0.05), mR=(0.3, 1, 0.1), DR=(0.01, .8, 0.01), v=(0.01, .8, 0.01),\n",
    "        w=(0.0, 60, 1))"
   ]
  },
  {
   "cell_type": "code",
   "execution_count": null,
   "metadata": {
    "collapsed": true
   },
   "outputs": [],
   "source": []
  }
 ],
 "metadata": {
  "anaconda-cloud": {},
  "kernelspec": {
   "display_name": "Python 3",
   "language": "python",
   "name": "python3"
  },
  "language_info": {
   "codemirror_mode": {
    "name": "ipython",
    "version": 3
   },
   "file_extension": ".py",
   "mimetype": "text/x-python",
   "name": "python",
   "nbconvert_exporter": "python",
   "pygments_lexer": "ipython3",
   "version": "3.6.4"
  },
  "widgets": {
   "state": {
    "1192b4b7caab4b51b8c64ec0a2da548e": {
     "views": [
      {
       "cell_index": 3
      }
     ]
    }
   },
   "version": "1.2.0"
  }
 },
 "nbformat": 4,
 "nbformat_minor": 2
}
